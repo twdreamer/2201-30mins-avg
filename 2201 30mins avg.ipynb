{
 "cells": [
  {
   "cell_type": "code",
   "execution_count": 1,
   "id": "08068fc3",
   "metadata": {},
   "outputs": [],
   "source": [
    "import csv\n",
    "from openpyxl import load_workbook\n",
    "wb = load_workbook('sl002 Gary v1.xlsx')"
   ]
  },
  {
   "cell_type": "code",
   "execution_count": 2,
   "id": "646f6eb3",
   "metadata": {},
   "outputs": [
    {
     "data": {
      "text/plain": [
       "['Raw', 'Gary', 'Sheet1']"
      ]
     },
     "execution_count": 2,
     "metadata": {},
     "output_type": "execute_result"
    }
   ],
   "source": [
    "wb.sheetnames"
   ]
  },
  {
   "cell_type": "code",
   "execution_count": 3,
   "id": "3b9d0786",
   "metadata": {},
   "outputs": [
    {
     "data": {
      "text/plain": [
       "<Worksheet \"Raw\">"
      ]
     },
     "execution_count": 3,
     "metadata": {},
     "output_type": "execute_result"
    }
   ],
   "source": [
    "wb.active = wb['Raw']\n",
    "ws = wb.active\n",
    "wb.active"
   ]
  },
  {
   "cell_type": "code",
   "execution_count": 4,
   "id": "c7b1e927",
   "metadata": {},
   "outputs": [
    {
     "data": {
      "text/plain": [
       "{2: 'T107_C_Avg',\n",
       " 3: 'SHF_Avg',\n",
       " 4: 'PSPWatt_UP_Avg',\n",
       " 5: 'PIRWatt_UP_Avg',\n",
       " 6: 'PSPWatt_DOWN_Avg',\n",
       " 7: 'PIRWatt_DOWN_Avg'}"
      ]
     },
     "execution_count": 4,
     "metadata": {},
     "output_type": "execute_result"
    }
   ],
   "source": [
    "# 設定標題字典\n",
    "Title = {\n",
    "}\n",
    "\n",
    "# 將第一列放進字典\n",
    "for row in ws.iter_rows(min_row=1, max_row=1):\n",
    "    for cell in row:\n",
    "        if cell.value == None:\n",
    "            pass\n",
    "        else:\n",
    "            Title[cell.column] = cell.value\n",
    "\n",
    "Title"
   ]
  },
  {
   "cell_type": "code",
   "execution_count": 5,
   "id": "4a9a24ab",
   "metadata": {},
   "outputs": [
    {
     "data": {
      "text/plain": [
       "['Time',\n",
       " 'T107_C_Avg',\n",
       " 'SHF_Avg',\n",
       " 'PSPWatt_UP_Avg',\n",
       " 'PIRWatt_UP_Avg',\n",
       " 'PSPWatt_DOWN_Avg',\n",
       " 'PIRWatt_DOWN_Avg']"
      ]
     },
     "execution_count": 5,
     "metadata": {},
     "output_type": "execute_result"
    }
   ],
   "source": [
    "# 設定標題列表\n",
    "Title_list = ['Time']\n",
    "for Item in Title:\n",
    "    Title_list.append(Title[Item])\n",
    "\n",
    "Title_list"
   ]
  },
  {
   "cell_type": "code",
   "execution_count": 6,
   "id": "4ab29338",
   "metadata": {},
   "outputs": [
    {
     "name": "stdout",
     "output_type": "stream",
     "text": [
      "32\n"
     ]
    }
   ],
   "source": [
    "# 找一下從行哪個開始\n",
    "for row in ws.iter_rows(min_row=4, max_row=34, max_col=7):\n",
    "    for cell in row:\n",
    "        if cell.column == 1:\n",
    "            if cell.value.minute != 0 and cell.value.minute != 30:\n",
    "                pass\n",
    "            else:\n",
    "                Start_row = cell.row\n",
    "                print(Start_row)\n",
    "            #print(cell.value.hour,\":\",cell.value.minute)"
   ]
  },
  {
   "cell_type": "code",
   "execution_count": 21,
   "id": "d0dbf40c",
   "metadata": {
    "scrolled": true
   },
   "outputs": [],
   "source": [
    "# 打開目標輸出CSV檔案\n",
    "with open('30mins avg.csv', 'w', encoding='UTF8') as f:\n",
    "    writer = csv.writer(f)\n",
    "\n",
    "    # 寫入標題\n",
    "    writer.writerow(Title_list)\n",
    "\n",
    "    # 預設值為零\n",
    "    Count = T107_C_Avg = SHF_Avg = PSPWatt_UP_Avg = PIRWatt_UP_Avg = PSPWatt_DOWN_Avg = PIRWatt_DOWN_Avg = 0\n",
    "\n",
    "    # 從找到的行開始紀錄\n",
    "    for row in ws.iter_rows(min_row=Start_row, max_col=7):\n",
    "        # 一行一行跑\n",
    "        for cell in row:\n",
    "            # 紀錄時間（默認為第一列）\n",
    "            if cell.column == 1:\n",
    "                Time = cell.value\n",
    "            # 如果是索引列則加至對應項目\n",
    "            if cell.column in Title:\n",
    "                if Title[cell.column] == \"T107_C_Avg\":\n",
    "                    T107_C_Avg = T107_C_Avg + cell.value\n",
    "\n",
    "                elif Title[cell.column] == \"SHF_Avg\":\n",
    "                    SHF_Avg = SHF_Avg + cell.value\n",
    "\n",
    "                elif Title[cell.column] == \"SHF_Avg\":\n",
    "                    SHF_Avg = SHF_Avg + cell.value\n",
    "\n",
    "                elif Title[cell.column] == \"PSPWatt_UP_Avg\":\n",
    "                    PSPWatt_UP_Avg = PSPWatt_UP_Avg + cell.value\n",
    "\n",
    "                elif Title[cell.column] == \"PIRWatt_UP_Avg\":\n",
    "                    PIRWatt_UP_Avg = PIRWatt_UP_Avg + cell.value\n",
    "\n",
    "                elif Title[cell.column] == \"PSPWatt_DOWN_Avg\":\n",
    "                    PSPWatt_DOWN_Avg = PSPWatt_DOWN_Avg + cell.value\n",
    "\n",
    "                elif Title[cell.column] == \"PIRWatt_DOWN_Avg\":\n",
    "                    PIRWatt_DOWN_Avg = PIRWatt_DOWN_Avg + cell.value\n",
    "\n",
    "        # 計數器\n",
    "        Count = Count + 1\n",
    "        if Count == 30:\n",
    "            Temp_for_write = [Time.strftime(\"%m/%d %H:%M:%S\"),T107_C_Avg/Count,SHF_Avg/Count,PSPWatt_UP_Avg/Count,PIRWatt_UP_Avg/Count,PSPWatt_DOWN_Avg/Count,PIRWatt_DOWN_Avg/Count]\n",
    "            # 寫入每30分鐘平均數據\n",
    "            writer.writerow(Temp_for_write)\n",
    "            \n",
    "            # 將所有歸零進入下一個30分鐘\n",
    "            Count = T107_C_Avg = SHF_Avg = PSPWatt_UP_Avg = PIRWatt_UP_Avg = PSPWatt_DOWN_Avg = PIRWatt_DOWN_Avg = 0\n",
    "\n",
    "\n",
    "            # 驗證用\n",
    "            '''        print(\"Time\" ,\"= {0}/{1} {2}:{3}\".format(Time.month, Time.day, Time.hour, Time.minute))\n",
    "            print(\"T107_C_Avg\" ,\"=\", T107_C_Avg/Count)\n",
    "            print(\"SHF_Avg\" ,\"=\", SHF_Avg/Count)\n",
    "            print(\"PSPWatt_UP_Avg\" ,\"=\", PSPWatt_UP_Avg/Count)\n",
    "            print(\"PIRWatt_UP_Avg\" ,\"=\", PIRWatt_UP_Avg/Count)\n",
    "            print(\"PSPWatt_DOWN_Avg\" ,\"=\", PSPWatt_DOWN_Avg/Count)\n",
    "            print(\"PIRWatt_DOWN_Avg\" ,\"=\", PIRWatt_DOWN_Avg/Count)  '''"
   ]
  }
 ],
 "metadata": {
  "kernelspec": {
   "display_name": "Python 3 (ipykernel)",
   "language": "python",
   "name": "python3"
  },
  "language_info": {
   "codemirror_mode": {
    "name": "ipython",
    "version": 3
   },
   "file_extension": ".py",
   "mimetype": "text/x-python",
   "name": "python",
   "nbconvert_exporter": "python",
   "pygments_lexer": "ipython3",
   "version": "3.9.7"
  }
 },
 "nbformat": 4,
 "nbformat_minor": 5
}
